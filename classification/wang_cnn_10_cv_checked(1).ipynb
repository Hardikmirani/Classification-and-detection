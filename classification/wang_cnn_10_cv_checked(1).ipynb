{
  "nbformat": 4,
  "nbformat_minor": 0,
  "metadata": {
    "kernelspec": {
      "display_name": "Python 3",
      "language": "python",
      "name": "python3"
    },
    "language_info": {
      "codemirror_mode": {
        "name": "ipython",
        "version": 3
      },
      "file_extension": ".py",
      "mimetype": "text/x-python",
      "name": "python",
      "nbconvert_exporter": "python",
      "pygments_lexer": "ipython3",
      "version": "3.6.5"
    },
    "colab": {
      "name": "wang cnn 10 cv checked.ipynb",
      "provenance": [],
      "collapsed_sections": [],
      "toc_visible": true
    }
  },
  "cells": [
    {
      "cell_type": "code",
      "metadata": {
        "id": "Tid_mRm8Fa7Z",
        "colab_type": "code",
        "colab": {}
      },
      "source": [
        "import numpy as np\n",
        "#import pandas as pd\n",
        "#import matplotlib.pyplot as plt\n",
        "import tensorflow as tf\n",
        "import keras\n",
        "import glob\n",
        "import cv2\n",
        "\n",
        "import os\n",
        "\n",
        "#TRAINGING SET:"
      ],
      "execution_count": 5,
      "outputs": []
    },
    {
      "cell_type": "markdown",
      "metadata": {
        "id": "8-AJ9C3rIIgR",
        "colab_type": "text"
      },
      "source": [
        ""
      ]
    },
    {
      "cell_type": "code",
      "metadata": {
        "id": "8pEAX5p7IE7B",
        "colab_type": "code",
        "colab": {}
      },
      "source": [
        "import cv2"
      ],
      "execution_count": 6,
      "outputs": []
    },
    {
      "cell_type": "code",
      "metadata": {
        "id": "xQt5WyjOFa7n",
        "colab_type": "code",
        "colab": {}
      },
      "source": [
        "def getImagesfromWang(no_of_classes):\n",
        "    insect_images = []\n",
        "    labels = []\n",
        "    i = 0\n",
        "    for insect_dir_path in glob.glob(\"/content/sample_data/wang/*\"):\n",
        "        insect_label = insect_dir_path.split(\"/\")[-1]\n",
        "        \n",
        "        if no_of_classes == i:\n",
        "            break\n",
        "        for image_path in glob.glob(os.path.join(insect_dir_path, \"*.jpg\")):\n",
        "            image = cv2.imread(image_path, cv2.IMREAD_COLOR)\n",
        "\n",
        "            image = cv2.resize(image, (64, 64)) \n",
        "            image = cv2.cvtColor(image, cv2.COLOR_RGB2BGR)\n",
        "\n",
        "            insect_images.append(image)\n",
        "            labels.append(insect_label)\n",
        "        i = i + 1\n",
        "\n",
        "    insect_images = np.array(insect_images)\n",
        "    labels = np.array(labels)\n",
        "    label_to_id_dict = {v: i for i, v in enumerate(np.unique(labels))}\n",
        "    id_to_label_dict = {v: k for k, v in label_to_id_dict.items()}\n",
        "    id_to_label_dict\n",
        "\n",
        "\n",
        "    label_ids = np.array([label_to_id_dict[x] for x in labels])\n",
        "    insect_images.shape, label_ids.shape, labels.shape\n",
        "    \n",
        "    print (\"Total Images : \" +  str(insect_images.shape[0]))\n",
        "    return insect_images, label_ids"
      ],
      "execution_count": 7,
      "outputs": []
    },
    {
      "cell_type": "code",
      "metadata": {
        "id": "NlvDS_rwFa70",
        "colab_type": "code",
        "colab": {
          "base_uri": "https://localhost:8080/",
          "height": 54
        },
        "outputId": "aac73f72-fd5d-4588-9262-a1bfba758ff6"
      },
      "source": [
        "insects_9_classes, labels_9_classes = getImagesfromWang(no_of_classes=9)\n",
        "insects_5_classes, labels_5_classes = getImagesfromWang(no_of_classes=5)"
      ],
      "execution_count": 8,
      "outputs": [
        {
          "output_type": "stream",
          "text": [
            "Total Images : 0\n",
            "Total Images : 0\n"
          ],
          "name": "stdout"
        }
      ]
    },
    {
      "cell_type": "code",
      "metadata": {
        "id": "HJIHfCITIDVl",
        "colab_type": "code",
        "colab": {}
      },
      "source": [
        ""
      ],
      "execution_count": 18,
      "outputs": []
    },
    {
      "cell_type": "code",
      "metadata": {
        "id": "6WPwfv_vFa7-",
        "colab_type": "code",
        "colab": {}
      },
      "source": [
        "#SETTING UP THE NEURAL NETWORK\n",
        "def modelCNN(X_train, X_test, Y_train, Y_test, Y, numClasses):\n",
        "    from keras.models import Sequential\n",
        "    from keras.layers import Dense, Dropout, Flatten, Conv2D, MaxPooling2D\n",
        "    from sklearn.metrics import confusion_matrix\n",
        "    from sklearn.metrics import accuracy_score\n",
        "    from sklearn.metrics import classification_report\n",
        "    \n",
        "    model_cnn = Sequential()\n",
        "    # First convolutional layer, note the specification of shape\n",
        "    model_cnn.add(Conv2D(32, kernel_size=(3,3),\n",
        "                     activation='relu',\n",
        "                     input_shape=(64, 64, 3)))\n",
        "\n",
        "    #Second layer\n",
        "    model_cnn.add(Conv2D(64, (3, 3), activation='relu'))\n",
        "    #model_cnn.add(Conv2D(64, (3, 3), activation='relu'))\n",
        "    model_cnn.add(MaxPooling2D(pool_size=(2, 2)))\n",
        "\n",
        "    #Third Layer\n",
        "    model_cnn.add(Conv2D(64, (3, 3), activation='relu'))\n",
        "    #model_cnn.add(Conv2D(64, (3, 3), activation='relu'))\n",
        "    model_cnn.add(MaxPooling2D(pool_size=(2, 2)))\n",
        "\n",
        "    #Fourth layer\n",
        "    model_cnn.add(Conv2D(128, (3, 3), activation='relu'))\n",
        "\n",
        "    model_cnn.add(Conv2D(128, (3, 3), activation='relu'))\n",
        "    model_cnn.add(MaxPooling2D(pool_size=(2, 2)))\n",
        "\n",
        "\n",
        "    model_cnn.add(Dropout(0.25))\n",
        "    model_cnn.add(Flatten())\n",
        "    model_cnn.add(Dense(128, activation='relu'))\n",
        "    model_cnn.add(Dropout(0.5))\n",
        "    model_cnn.add(Dense(numClasses, activation='softmax'))\n",
        "\n",
        "    opt = keras.optimizers.Adam(lr=0.001)\n",
        "    model_cnn.compile(loss=keras.losses.categorical_crossentropy,\n",
        "                  optimizer=opt,\n",
        "                  metrics=['accuracy'])\n",
        "\n",
        "    '''model_cnn.compile(loss=keras.losses.categorical_crossentropy,\n",
        "                  optimizer=keras.optimizers.Adadelta(),\n",
        "                  metrics=['accuracy'])'''\n",
        "\n",
        "\n",
        "    #model_cnn.summary()\n",
        "    \n",
        "\n",
        "    # Compile the model to put it all together.\n",
        "    '''model_cnn.compile(loss=keras.losses.categorical_crossentropy,\n",
        "                  optimizer=keras.optimizers.Adadelta(),\n",
        "                  metrics=['accuracy'])'''\n",
        "\n",
        "\n",
        "    model_cnn.fit(X_train, Y_train,\n",
        "              batch_size=64,\n",
        "              epochs=50,\n",
        "              verbose=1,\n",
        "              validation_data=(X_test, Y_test))\n",
        "    #score = model_cnn.evaluate(X_test, Y_test, verbose=0)\n",
        "\n",
        "    predict = model_cnn.predict(X_test, batch_size=1)\n",
        "    y = np.argmax(predict, axis=1)\n",
        "\n",
        "    #results = confusion_matrix(Y,y)\n",
        "    #print('Confusion Matrix :')\n",
        "    #print(results)\n",
        "    print('Accuracy Score :',accuracy_score(Y, y))\n",
        "    #print('Report : ')\n",
        "    #print(classification_report(Y, y))\n",
        "    return accuracy_score(Y, y)  \n"
      ],
      "execution_count": 6,
      "outputs": []
    },
    {
      "cell_type": "code",
      "metadata": {
        "id": "AYVw7RYrFa8E",
        "colab_type": "code",
        "colab": {}
      },
      "source": [
        "from sklearn.model_selection import KFold\n",
        "import keras\n",
        "\n",
        "def getKFoldCV(Images, Labels, numClasses):\n",
        "    # KFold Cross Validation approach\n",
        "    kf = KFold(n_splits=5,shuffle=True,random_state=1245)\n",
        "    kf.split(Images)\n",
        "\n",
        "    # Initialize the accuracy of the models to blank list. The accuracy of each model will be appended to this list\n",
        "    accuracy_model = []\n",
        "\n",
        "    # Iterate over each train-test split\n",
        "    for train_index, test_index in kf.split(Images):\n",
        "        # Split train-test\n",
        "        X_train, X_test = Images[train_index], Images[test_index]\n",
        "        Y_train, Y_test = Labels[train_index], Labels[test_index]\n",
        "        Y=Y_test\n",
        "\n",
        "        #Normalize color values to between 0 and 1\n",
        "        X_train = X_train/255\n",
        "        X_test = X_test/255\n",
        "\n",
        "        #Make a flattened version for some of our models\n",
        "        X_flat_train = X_train.reshape(X_train.shape[0], 64*64*3)\n",
        "        X_flat_test = X_test.reshape(X_test.shape[0], 64*64*3)\n",
        "\n",
        "        #One Hot Encode the Output\n",
        "        Y_train = keras.utils.to_categorical(Y_train,numClasses)\n",
        "        Y_test = keras.utils.to_categorical(Y_test,numClasses)\n",
        "\n",
        "        # Train the model\n",
        "        print('Original Sizes:', X_train.shape, X_test.shape, Y_train.shape, Y_test.shape)\n",
        "        accuracy_model.append(modelCNN(X_train, X_test, Y_train, Y_test, Y, numClasses))\n",
        "    \n",
        "    return (accuracy_model) \n",
        "\n",
        "\n",
        "     \n",
        "\n",
        "\n"
      ],
      "execution_count": 3,
      "outputs": []
    },
    {
      "cell_type": "code",
      "metadata": {
        "id": "rRobjVrxbJD-",
        "colab_type": "code",
        "colab": {}
      },
      "source": [
        "from google.colab import drive\n",
        "drive.mount('/content/drive')"
      ],
      "execution_count": null,
      "outputs": []
    },
    {
      "cell_type": "code",
      "metadata": {
        "id": "D_BQfiJ6tFsS",
        "colab_type": "code",
        "colab": {
          "base_uri": "https://localhost:8080/",
          "height": 249
        },
        "outputId": "d25a1a6d-d96c-4288-a547-211aa74ed94c"
      },
      "source": [
        "import time\n",
        "start_time= time.time()\n",
        "accurary_5Classes = getKFoldCV(insects_5_classes, labels_5_classes, 5)\n",
        "end_time=time.time()\n",
        "print(accurary_5Classes)\n",
        "print(\"Total time taken {}\".format(end_time-start_time)) "
      ],
      "execution_count": 4,
      "outputs": [
        {
          "output_type": "error",
          "ename": "NameError",
          "evalue": "ignored",
          "traceback": [
            "\u001b[0;31m---------------------------------------------------------------------------\u001b[0m",
            "\u001b[0;31mNameError\u001b[0m                                 Traceback (most recent call last)",
            "\u001b[0;32m<ipython-input-4-292c1a494313>\u001b[0m in \u001b[0;36m<module>\u001b[0;34m()\u001b[0m\n\u001b[1;32m      1\u001b[0m \u001b[0;32mimport\u001b[0m \u001b[0mtime\u001b[0m\u001b[0;34m\u001b[0m\u001b[0;34m\u001b[0m\u001b[0m\n\u001b[1;32m      2\u001b[0m \u001b[0mstart_time\u001b[0m\u001b[0;34m=\u001b[0m \u001b[0mtime\u001b[0m\u001b[0;34m.\u001b[0m\u001b[0mtime\u001b[0m\u001b[0;34m(\u001b[0m\u001b[0;34m)\u001b[0m\u001b[0;34m\u001b[0m\u001b[0;34m\u001b[0m\u001b[0m\n\u001b[0;32m----> 3\u001b[0;31m \u001b[0maccurary_5Classes\u001b[0m \u001b[0;34m=\u001b[0m \u001b[0mgetKFoldCV\u001b[0m\u001b[0;34m(\u001b[0m\u001b[0minsects_5_classes\u001b[0m\u001b[0;34m,\u001b[0m \u001b[0mlabels_5_classes\u001b[0m\u001b[0;34m,\u001b[0m \u001b[0;36m5\u001b[0m\u001b[0;34m)\u001b[0m\u001b[0;34m\u001b[0m\u001b[0;34m\u001b[0m\u001b[0m\n\u001b[0m\u001b[1;32m      4\u001b[0m \u001b[0mend_time\u001b[0m\u001b[0;34m=\u001b[0m\u001b[0mtime\u001b[0m\u001b[0;34m.\u001b[0m\u001b[0mtime\u001b[0m\u001b[0;34m(\u001b[0m\u001b[0;34m)\u001b[0m\u001b[0;34m\u001b[0m\u001b[0;34m\u001b[0m\u001b[0m\n\u001b[1;32m      5\u001b[0m \u001b[0mprint\u001b[0m\u001b[0;34m(\u001b[0m\u001b[0maccurary_5Classes\u001b[0m\u001b[0;34m)\u001b[0m\u001b[0;34m\u001b[0m\u001b[0;34m\u001b[0m\u001b[0m\n",
            "\u001b[0;31mNameError\u001b[0m: name 'insects_5_classes' is not defined"
          ]
        }
      ]
    },
    {
      "cell_type": "code",
      "metadata": {
        "id": "k_HF3C1sFa8N",
        "colab_type": "code",
        "colab": {}
      },
      "source": [
        "#accurary_5Classes = getKFoldCV(insects_5_classes, labels_5_classes, 5)\n",
        "#print(accurary_5Classes)"
      ],
      "execution_count": null,
      "outputs": []
    },
    {
      "cell_type": "code",
      "metadata": {
        "id": "ONKIdNA0Fa8W",
        "colab_type": "code",
        "colab": {}
      },
      "source": [
        "accurary_5Classes"
      ],
      "execution_count": null,
      "outputs": []
    },
    {
      "cell_type": "code",
      "metadata": {
        "id": "IGpudv8BFa8c",
        "colab_type": "code",
        "colab": {}
      },
      "source": [
        "start_time= time.time()\n",
        "accurary_9Classes = getKFoldCV(insects_9_classes, labels_9_classes, 9)\n",
        "end_time=time.time()\n",
        "print(accurary_9Classes)\n",
        "print(\"Total time taken {}\".format(end_time-start_time))\n",
        "\n"
      ],
      "execution_count": null,
      "outputs": []
    },
    {
      "cell_type": "code",
      "metadata": {
        "id": "6ZMVLDTDFa8j",
        "colab_type": "code",
        "colab": {}
      },
      "source": [
        "accurary_9Classes"
      ],
      "execution_count": null,
      "outputs": []
    },
    {
      "cell_type": "code",
      "metadata": {
        "id": "cch-MaHhFa8q",
        "colab_type": "code",
        "colab": {}
      },
      "source": [
        ""
      ],
      "execution_count": null,
      "outputs": []
    },
    {
      "cell_type": "code",
      "metadata": {
        "id": "wQ33ROkcFa8w",
        "colab_type": "code",
        "colab": {}
      },
      "source": [
        ""
      ],
      "execution_count": null,
      "outputs": []
    }
  ]
}